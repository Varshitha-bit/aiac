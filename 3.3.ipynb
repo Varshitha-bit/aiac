{
  "nbformat": 4,
  "nbformat_minor": 0,
  "metadata": {
    "colab": {
      "provenance": [],
      "authorship_tag": "ABX9TyNDZSqXabkRfW+gGA4DJ+iC",
      "include_colab_link": true
    },
    "kernelspec": {
      "name": "python3",
      "display_name": "Python 3"
    },
    "language_info": {
      "name": "python"
    }
  },
  "cells": [
    {
      "cell_type": "markdown",
      "metadata": {
        "id": "view-in-github",
        "colab_type": "text"
      },
      "source": [
        "<a href=\"https://colab.research.google.com/github/Varshitha-bit/aiac/blob/main/3.3.ipynb\" target=\"_parent\"><img src=\"https://colab.research.google.com/assets/colab-badge.svg\" alt=\"Open In Colab\"/></a>"
      ]
    },
    {
      "cell_type": "markdown",
      "source": [
        "Task 1:Try 3 different prompts to generate a factorial function\n",
        "\n",
        "prompt: generate a factorial function.give input dynamically"
      ],
      "metadata": {
        "id": "zDc6Egaov6lX"
      }
    },
    {
      "cell_type": "code",
      "metadata": {
        "colab": {
          "base_uri": "https://localhost:8080/"
        },
        "id": "6eb56345",
        "outputId": "7f5cc7be-4080-4bfa-b117-43ae154ec551"
      },
      "source": [
        "def factorial(n):\n",
        "  \"\"\"Calculates the factorial of a non-negative integer.\"\"\"\n",
        "  if n == 0:\n",
        "    return 1\n",
        "  else:\n",
        "    return n * factorial(n-1)\n",
        "\n",
        "# Get input from the user dynamically:\n",
        "while True:\n",
        "    try:\n",
        "        num = int(input(\"Enter a non-negative integer: \"))\n",
        "        if num < 0:\n",
        "            print(\"Please enter a non-negative integer.\")\n",
        "        else:\n",
        "            break\n",
        "    except ValueError:\n",
        "        print(\"Invalid input. Please enter an integer.\")\n",
        "\n",
        "print(f\"The factorial of {num} is {factorial(num)}\")"
      ],
      "execution_count": 2,
      "outputs": [
        {
          "output_type": "stream",
          "name": "stdout",
          "text": [
            "Enter a non-negative integer: 12\n",
            "The factorial of 12 is 479001600\n"
          ]
        }
      ]
    },
    {
      "cell_type": "markdown",
      "source": [
        "Explanation: This program calculates the factorial of a non-negative integer using recursion. The factorial() function returns 1 if the number is 0 (since 0! = 1). Otherwise, it multiplies the number by the factorial of the number minus one, calling itself repeatedly until it reaches 0.\n",
        "The user is asked to enter a non-negative integer. If they type a negative number or something that’s not an integer, they’re prompted again. Once a valid number is given, the program calculates and prints its factorial.\n"
      ],
      "metadata": {
        "id": "z6oHXVhzxfkG"
      }
    },
    {
      "cell_type": "markdown",
      "source": [
        "Task 2:Provide a clear example input-output prompt to generate a sorting function.\n",
        "\n",
        "prompt:Write a Python function called sort_numbers that takes a list of integers as input and returns a new list with the integers sorted in ascending order. Do not use Python’s built-in sort() or sorted() functions.Dynamic input."
      ],
      "metadata": {
        "id": "uVsECpi9zF5l"
      }
    },
    {
      "cell_type": "code",
      "source": [
        "def sort_numbers(numbers):\n",
        "  \"\"\"Sorts a list of integers in ascending order without using built-in sort functions.\"\"\"\n",
        "  n = len(numbers)\n",
        "  # Create a copy of the list to avoid modifying the original\n",
        "  sorted_numbers = numbers[:]\n",
        "\n",
        "  for i in range(n):\n",
        "    # Last i elements are already in place\n",
        "    for j in range(0, n - i - 1):\n",
        "      # traverse the list from 0 to n-i-1\n",
        "      # Swap if the element found is greater than the next element\n",
        "      if sorted_numbers[j] > sorted_numbers[j + 1]:\n",
        "        sorted_numbers[j], sorted_numbers[j + 1] = sorted_numbers[j + 1], sorted_numbers[j]\n",
        "\n",
        "  return sorted_numbers\n",
        "\n",
        "# Get input from the user dynamically:\n",
        "while True:\n",
        "    try:\n",
        "        input_str = input(\"Enter a list of integers separated by spaces: \")\n",
        "        my_list = [int(x) for x in input_str.split()]\n",
        "        break\n",
        "    except ValueError:\n",
        "        print(\"Invalid input. Please enter a list of integers separated by spaces.\")\n",
        "\n",
        "\n",
        "sorted_list = sort_numbers(my_list)\n",
        "print(f\"Original list: {my_list}\")\n",
        "print(f\"Sorted list: {sorted_list}\")"
      ],
      "metadata": {
        "colab": {
          "base_uri": "https://localhost:8080/"
        },
        "id": "7l7Vnfbkz19w",
        "outputId": "452b2d83-ecb9-4357-fb2d-6ea66e7c14d3"
      },
      "execution_count": 4,
      "outputs": [
        {
          "output_type": "stream",
          "name": "stdout",
          "text": [
            "Enter a list of integers separated by spaces: 89 98 67 41 13 2\n",
            "Original list: [89, 98, 67, 41, 13, 2]\n",
            "Sorted list: [2, 13, 41, 67, 89, 98]\n"
          ]
        }
      ]
    },
    {
      "cell_type": "markdown",
      "source": [
        "Explanation: This program sorts a list of integers in ascending order without using Python’s built-in sort() or sorted(). It uses the bubble sort method, which repeatedly goes through the list, compares neighboring numbers, and swaps them if they’re in the wrong order. With each pass, the largest numbers bubble to the end, so fewer comparisons are needed each time.\n",
        "It first takes a list of integers from the user, making sure the input is valid. The sort_numbers() function returns a sorted copy of that list, leaving the original unchanged. Finally, it prints both the original list and the sorted list.\n"
      ],
      "metadata": {
        "id": "Y73S8tg41r09"
      }
    },
    {
      "cell_type": "markdown",
      "source": [
        "Task 3:Start with the vague prompt “Generate python code to calculate power bill” and improve it step-by-step\n",
        "\n",
        "prompt: Generate python code to calculate power bill. give input dynamically."
      ],
      "metadata": {
        "id": "2MxsH6SE2LNe"
      }
    },
    {
      "cell_type": "code",
      "source": [
        "# Get input from the user dynamically for units consumed and rate per unit\n",
        "\n",
        "while True:\n",
        "    try:\n",
        "        units_consumed = float(input(\"Enter the number of units consumed: \"))\n",
        "        if units_consumed < 0:\n",
        "            print(\"Units consumed cannot be negative. Please enter a valid number.\")\n",
        "        else:\n",
        "            break\n",
        "    except ValueError:\n",
        "        print(\"Invalid input. Please enter a numerical value for units consumed.\")\n",
        "\n",
        "while True:\n",
        "    try:\n",
        "        rate_per_unit = float(input(\"Enter the rate per unit of electricity: \"))\n",
        "        if rate_per_unit < 0:\n",
        "             print(\"Rate per unit cannot be negative. Please enter a valid number.\")\n",
        "        else:\n",
        "            break\n",
        "    except ValueError:\n",
        "        print(\"Invalid input. Please enter a numerical value for rate per unit.\")\n",
        "\n",
        "\n",
        "# Calculate the power bill\n",
        "power_bill = rate_per_unit * units_consumed\n",
        "\n",
        "print(f\"\\nUnits Consumed: {units_consumed}\")\n",
        "print(f\"Rate per Unit: ${rate_per_unit:.2f}\")\n",
        "print(f\"Estimated Power Bill: ${power_bill:.2f}\")"
      ],
      "metadata": {
        "colab": {
          "base_uri": "https://localhost:8080/"
        },
        "id": "NMomQ3al2Xsp",
        "outputId": "778d12b3-21f7-45e7-de5a-58284d3a855d"
      },
      "execution_count": 6,
      "outputs": [
        {
          "output_type": "stream",
          "name": "stdout",
          "text": [
            "Enter the number of units consumed: 200\n",
            "Enter the rate per unit of electricity: 50\n",
            "\n",
            "Units Consumed: 200.0\n",
            "Rate per Unit: $50.00\n",
            "Estimated Power Bill: $10000.00\n"
          ]
        }
      ]
    },
    {
      "cell_type": "markdown",
      "source": [
        "Explanation: This program calculates an electricity bill based on the number of units consumed and the rate per unit. It first asks the user to enter the units consumed, checking that the value is a valid number and not negative. Then it asks for the rate per unit with the same checks.\n",
        "Once both inputs are valid, it multiplies the units consumed by the rate per unit to get the total bill. Finally, it displays the units used, the rate per unit, and the calculated bill amount in a clear format.\n"
      ],
      "metadata": {
        "id": "pniqJD0P5NZu"
      }
    },
    {
      "cell_type": "markdown",
      "source": [
        "Task 4:Write structured comments to help AI generate two linked functions (e.g., login_user()\n",
        "and register_user()).\n",
        "\n",
        "prompt: Write structured comments to help AI generate two linked functions (e.g., login_user()\n",
        "and register_user())."
      ],
      "metadata": {
        "id": "6FZIFvLn5mD8"
      }
    },
    {
      "cell_type": "code",
      "source": [
        "# Simulated database to store users\n",
        "users_db = {}\n",
        "\n",
        "def register_user(username, password):\n",
        "    \"\"\"Registers a new user if the username does not already exist.\"\"\"\n",
        "    if username in users_db:\n",
        "        print(\"Registration failed: Username already exists.\")\n",
        "        return False\n",
        "    users_db[username] = password\n",
        "    print(f\"Registration successful! Welcome, {username}.\")\n",
        "    return True\n",
        "\n",
        "def login_user(username, password):\n",
        "    \"\"\"Logs in a user if the username exists and the password matches.\"\"\"\n",
        "    if username not in users_db:\n",
        "        print(\"Login failed: Username not found.\")\n",
        "        return False\n",
        "    if users_db[username] != password:\n",
        "        print(\"Login failed: Incorrect password.\")\n",
        "        return False\n",
        "    print(f\"Login successful! Welcome back, {username}.\")\n",
        "    return True\n",
        "\n",
        "# Example usage:\n",
        "# Register a user\n",
        "if register_user(\"alice\", \"password123\"):\n",
        "    # Automatically log in after successful registration\n",
        "    login_user(\"alice\", \"password123\")\n",
        "\n",
        "# Try logging in with incorrect credentials\n",
        "login_user(\"alice\", \"wrongpass\")\n",
        "\n",
        "# Try logging in with correct credentials\n",
        "login_user(\"alice\", \"password123\")\n"
      ],
      "metadata": {
        "colab": {
          "base_uri": "https://localhost:8080/"
        },
        "id": "A_mNlvU66fXC",
        "outputId": "9eee11e0-89cb-4a97-9721-a5fbf38e1597"
      },
      "execution_count": 8,
      "outputs": [
        {
          "output_type": "stream",
          "name": "stdout",
          "text": [
            "Registration successful! Welcome, alice.\n",
            "Login successful! Welcome back, alice.\n",
            "Login failed: Incorrect password.\n",
            "Login successful! Welcome back, alice.\n"
          ]
        },
        {
          "output_type": "execute_result",
          "data": {
            "text/plain": [
              "True"
            ]
          },
          "metadata": {},
          "execution_count": 8
        }
      ]
    },
    {
      "cell_type": "markdown",
      "source": [
        "Explanation: This program simulates a simple user registration and login system using a shared dictionary as a fake database.\n",
        "The register_user() function checks if the chosen username is already in the dictionary. If it is, registration fails. If not, it stores the username with its password and confirms the registration.\n",
        "The login_user() function checks if the username exists. If it doesn’t, login fails. If it does exist, it compares the entered password to the stored one—if they match, login succeeds; otherwise, it fails.\n",
        "In the example, a user named alice is registered and then automatically logged in. After that, the program tries logging in with the wrong password (which fails) and then with the correct password (which succeeds).\n"
      ],
      "metadata": {
        "id": "hoY3feez6Mm0"
      }
    },
    {
      "cell_type": "markdown",
      "source": [
        "Task 5:Analyzing Prompt Specificity: Improving Temperature Conversion Function with\n",
        "Clear Instructions\n",
        "\n",
        "prompt: Improving Temperature Conversion Function with Clear Instructions"
      ],
      "metadata": {
        "id": "wy995qHb7AA9"
      }
    },
    {
      "cell_type": "code",
      "source": [
        "def convert_temperature(value, from_unit, to_unit):\n",
        "    \"\"\"Converts temperature between Celsius (C), Fahrenheit (F), and Kelvin (K).\"\"\"\n",
        "    try:\n",
        "        value = float(value)  # Ensure value is numeric\n",
        "    except ValueError:\n",
        "        return \"Error: Temperature value must be a number.\"\n",
        "\n",
        "    # Normalize units to uppercase\n",
        "    from_unit = from_unit.upper()\n",
        "    to_unit = to_unit.upper()\n",
        "\n",
        "    valid_units = {'C', 'F', 'K'}\n",
        "    if from_unit not in valid_units or to_unit not in valid_units:\n",
        "        return \"Error: Units must be 'C', 'F', or 'K'.\"\n",
        "\n",
        "    # Convert from the source unit to Celsius\n",
        "    if from_unit == 'C':\n",
        "        celsius = value\n",
        "    elif from_unit == 'F':\n",
        "        celsius = (value - 32) * 5/9\n",
        "    elif from_unit == 'K':\n",
        "        celsius = value - 273.15\n",
        "\n",
        "    # Convert from Celsius to target unit\n",
        "    if to_unit == 'C':\n",
        "        result = celsius\n",
        "    elif to_unit == 'F':\n",
        "        result = (celsius * 9/5) + 32\n",
        "    elif to_unit == 'K':\n",
        "        result = celsius + 273.15\n",
        "\n",
        "    return round(result, 2)\n",
        "\n",
        "# Example usage:\n",
        "print(convert_temperature(100, 'C', 'F'))  # 212.0\n",
        "print(convert_temperature(32, 'F', 'C'))   # 0.0\n",
        "print(convert_temperature(0, 'C', 'K'))    # 273.15\n",
        "print(convert_temperature(300, 'K', 'F'))  # 80.33\n",
        "print(convert_temperature(\"abc\", 'C', 'F')) # Error\n",
        "print(convert_temperature(100, 'C', 'X'))   # Error\n"
      ],
      "metadata": {
        "colab": {
          "base_uri": "https://localhost:8080/"
        },
        "id": "GsjeyS2y7Kwn",
        "outputId": "1df9404d-f825-4595-fb74-32acbe8b06b5"
      },
      "execution_count": 9,
      "outputs": [
        {
          "output_type": "stream",
          "name": "stdout",
          "text": [
            "212.0\n",
            "0.0\n",
            "273.15\n",
            "80.33\n",
            "Error: Temperature value must be a number.\n",
            "Error: Units must be 'C', 'F', or 'K'.\n"
          ]
        }
      ]
    },
    {
      "cell_type": "markdown",
      "source": [
        "Explanation: This function first ensures the temperature value is a number. It then normalizes the input units to uppercase and checks if they are valid (C, F, K).\n",
        "It converts the source temperature to Celsius first, then from Celsius to the target unit. This approach avoids writing separate formulas for every possible conversion. The result is rounded to two decimal places before being returned. Invalid inputs produce clear error messages."
      ],
      "metadata": {
        "id": "EFs63VGj7y5r"
      }
    }
  ]
}