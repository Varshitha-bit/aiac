{
  "nbformat": 4,
  "nbformat_minor": 0,
  "metadata": {
    "colab": {
      "provenance": [],
      "authorship_tag": "ABX9TyOAJMAKjt+ytv/p53kikORH",
      "include_colab_link": true
    },
    "kernelspec": {
      "name": "python3",
      "display_name": "Python 3"
    },
    "language_info": {
      "name": "python"
    }
  },
  "cells": [
    {
      "cell_type": "markdown",
      "metadata": {
        "id": "view-in-github",
        "colab_type": "text"
      },
      "source": [
        "<a href=\"https://colab.research.google.com/github/Varshitha-bit/aiac/blob/main/lab2_2.ipynb\" target=\"_parent\"><img src=\"https://colab.research.google.com/assets/colab-badge.svg\" alt=\"Open In Colab\"/></a>"
      ]
    },
    {
      "cell_type": "markdown",
      "source": [
        "Task 1:write a function that filters out all negative numbers from a\n",
        "given list.\n",
        "\n",
        "prompt:write a function that filters out all negative numbers from a\n",
        "given list. use dynamic input."
      ],
      "metadata": {
        "id": "H0s5_ZHX10NW"
      }
    },
    {
      "cell_type": "code",
      "source": [
        "def filter_negative_numbers(numbers):\n",
        "    \"\"\"Filters out negative numbers from a list.\"\"\"\n",
        "    return [num for num in numbers if num >= 0]\n",
        "\n",
        "# Get dynamic input from the user\n",
        "try:\n",
        "    input_list_str = input(\"Enter a list of numbers (comma-separated): \")\n",
        "    input_list = [int(x.strip()) for x in input_list_str.split(',')]\n",
        "\n",
        "    filtered_list = filter_negative_numbers(input_list)\n",
        "    print(filtered_list)\n",
        "except ValueError:\n",
        "    print(\"Invalid input. Please enter a comma-separated list of integers.\")"
      ],
      "metadata": {
        "colab": {
          "base_uri": "https://localhost:8080/"
        },
        "id": "QB_5KxBp2XgG",
        "outputId": "d85d0e2b-0c67-458a-8c26-fc98369bb616"
      },
      "execution_count": null,
      "outputs": [
        {
          "output_type": "stream",
          "name": "stdout",
          "text": [
            "Enter a list of numbers (comma-separated): 1,2,-1,-10,-4,45,55,6\n",
            "[1, 2, 45, 55, 6]\n"
          ]
        }
      ]
    },
    {
      "cell_type": "markdown",
      "source": [
        "Explanation: we are using a function called filter_negative_number.in return section we are checking each and every number in the list whether the number is greater that 0, because if it less than 0 it is a negative number. and we won't display that numbers we will only display positive numbers which are greater that 0. as i wanted to give the input dynamically in try section we will use input function. below that we are using some fuctions like strip and split these take the comma-separated string entered by the user, cleans up any extra spaces around the numbers, and converts them into a list of actual integer values.after that we are just calling the function. at last we are including valueerror. it is used when the user does not include comma's. we need cooma to seperate the string."
      ],
      "metadata": {
        "id": "BdjJ67U73vbG"
      }
    },
    {
      "cell_type": "code",
      "source": [],
      "metadata": {
        "id": "vVPYuD9s64Cm"
      },
      "execution_count": null,
      "outputs": []
    },
    {
      "cell_type": "markdown",
      "source": [
        "Task 2:Read a text file and count the frequency of each word.\n",
        "\n",
        "prompt:Read a text file and count the frequency of each word."
      ],
      "metadata": {
        "id": "Trl_34ug65j3"
      }
    },
    {
      "cell_type": "code",
      "source": [
        "def count_word_frequency_manual(filepath):\n",
        "    \"\"\"Reads a text file and counts the frequency of each word manually.\"\"\"\n",
        "    word_counts = {}\n",
        "    try:\n",
        "        with open(filepath, 'r', encoding='utf-8') as f:\n",
        "            for line in f:\n",
        "                # Simple split by whitespace and remove basic punctuation\n",
        "                words = line.lower().replace('.', '').replace(',', '').replace('!', '').replace('?', '').split()\n",
        "                for word in words:\n",
        "                    if word: # Ensure word is not an empty string\n",
        "                        word_counts[word] = word_counts.get(word, 0) + 1\n",
        "        return word_counts\n",
        "    except FileNotFoundError:\n",
        "        return \"Error: File not found.\"\n",
        "    except Exception as e:\n",
        "        return f\"An error occurred: {e}\"\n",
        "\n",
        "# Example usage:\n",
        "# Create a dummy text file for demonstration\n",
        "with open('sample.txt', 'w', encoding='utf-8') as f:\n",
        "    f.write(\"This is a sample text file.\\n\")\n",
        "    f.write(\"This file is for demonstrating word frequency counting.\\n\")\n",
        "    f.write(\"Sample text, sample counting, text file.\")\n",
        "\n",
        "\n",
        "file_path = 'sample.txt'\n",
        "word_frequencies = count_word_frequency_manual(file_path)\n",
        "\n",
        "if isinstance(word_frequencies, str):\n",
        "    print(word_frequencies)\n",
        "else:\n",
        "    # Manually sort and print word frequencies\n",
        "    sorted_word_counts = sorted(word_frequencies.items(), key=lambda item: item[1], reverse=True)\n",
        "    for word, count in sorted_word_counts:\n",
        "        print(f\"{word}: {count}\")"
      ],
      "metadata": {
        "colab": {
          "base_uri": "https://localhost:8080/"
        },
        "id": "42_62WMp7eQx",
        "outputId": "b61f00fa-fec5-4632-936a-abe633be16cb"
      },
      "execution_count": null,
      "outputs": [
        {
          "output_type": "stream",
          "name": "stdout",
          "text": [
            "sample: 3\n",
            "text: 3\n",
            "file: 3\n",
            "this: 2\n",
            "is: 2\n",
            "counting: 2\n",
            "a: 1\n",
            "for: 1\n",
            "demonstrating: 1\n",
            "word: 1\n",
            "frequency: 1\n"
          ]
        }
      ]
    },
    {
      "cell_type": "markdown",
      "source": [
        "explanation: The program reads a text file and works out how many times each word appears. It starts by opening the file and going through it line by line. Each line is turned into lowercase, basic punctuation like full stops and commas is removed, and the text is split into separate words. For every word it finds, it keeps track of the count in a dictionary. If the file doesn’t exist, it shows an error message instead of crashing.\n",
        "In the example, a small sample file is created with a few lines of text. The program then counts the words, sorts them so the most common ones come first, and prints each word with how many times it appeared."
      ],
      "metadata": {
        "id": "uc1Q4GQ3-6J0"
      }
    },
    {
      "cell_type": "markdown",
      "source": [
        "task0; build python function to check the given number is prime or not\n",
        "\n",
        "prompt:write a python function to check the given number is prime or not. take input dynamically."
      ],
      "metadata": {
        "id": "hMUozG_N-64i"
      }
    },
    {
      "cell_type": "code",
      "source": [
        "def is_prime(num):\n",
        "    \"\"\"Checks if a number is prime.\"\"\"\n",
        "    if num <= 1:\n",
        "        return False\n",
        "    for i in range(2, int(num**0.5) + 1):\n",
        "        if num % i == 0:\n",
        "            return False\n",
        "    return True\n",
        "\n",
        "# Get input from the user dynamically\n",
        "try:\n",
        "    number = int(input(\"Enter a number to check if it's prime: \"))\n",
        "    if is_prime(number):\n",
        "        print(f\"{number} is a prime number.\")\n",
        "    else:\n",
        "        print(f\"{number} is not a prime number.\")\n",
        "except ValueError:\n",
        "    print(\"Invalid input. Please enter an integer.\")"
      ],
      "metadata": {
        "colab": {
          "base_uri": "https://localhost:8080/"
        },
        "id": "J7msMPBL-8Fn",
        "outputId": "d9d34fb4-dbf0-422d-ecc5-97e48d69620b"
      },
      "execution_count": null,
      "outputs": [
        {
          "output_type": "stream",
          "name": "stdout",
          "text": [
            "Enter a number to check if it's prime: 10\n",
            "10 is not a prime number.\n"
          ]
        }
      ]
    },
    {
      "cell_type": "markdown",
      "source": [
        "Explanation:first we have to take a function like is_prime.In that we have to check wether the number is prime or not.for that first we are checking whether the given number is greater than or equal to 1.It works by first rejecting any number less than or equal to 1, since those aren’t prime. Then it tests dividing the number by all integers from 2 up to the square root of the number. If any of these divides evenly, the number isn’t prime; if none do, it is prime.\n",
        "In the example, it asks the user to type a number. If the input is a valid integer, it runs the check and prints whether the number is prime or not. If the user types something that isn’t a number, it shows an error message."
      ],
      "metadata": {
        "id": "FwfimZ_b_DF-"
      }
    },
    {
      "cell_type": "markdown",
      "source": [
        "Task 3:generate a Python class called Book with attributes title, author, and\n",
        "a method summary() that prints the details.\n",
        "\n",
        "Prompt:generate a Python class called Book with attributes title, author, and a method summary() that prints the details."
      ],
      "metadata": {
        "id": "QQ7tDKOwqfxh"
      }
    },
    {
      "cell_type": "code",
      "source": [
        "class Book:\n",
        "    \"\"\"A class to represent a book.\"\"\"\n",
        "\n",
        "    def __init__(self, title, author):\n",
        "        \"\"\"Initializes a Book object with title and author.\"\"\"\n",
        "        self.title = title\n",
        "        self.author = author\n",
        "\n",
        "    def summary(self):\n",
        "        \"\"\"Prints the details of the book.\"\"\"\n",
        "        print(f\"Title: {self.title}\")\n",
        "        print(f\"Author: {self.author}\")\n",
        "\n",
        "# Example usage:\n",
        "my_book = Book(\"The Hitchhiker's Guide to the Galaxy\", \"Douglas Adams\")\n",
        "my_book.summary()"
      ],
      "metadata": {
        "colab": {
          "base_uri": "https://localhost:8080/"
        },
        "id": "adhieOTVrjju",
        "outputId": "84e572d5-c062-4592-ec16-b2b433026c76"
      },
      "execution_count": 2,
      "outputs": [
        {
          "output_type": "stream",
          "name": "stdout",
          "text": [
            "Title: The Hitchhiker's Guide to the Galaxy\n",
            "Author: Douglas Adams\n"
          ]
        }
      ]
    },
    {
      "cell_type": "markdown",
      "source": [
        "Explanation: This code defines a simple Book class to store information about a book. When you create a new book object, you give it a title and an author, which are saved as part of the object. The summary method prints these details in a neat format.\n",
        "In the example, a book object is made with the title *The Hitchhiker’s Guide to the Galaxy* and author *Douglas Adams*, and then summary is called to display the information.\n"
      ],
      "metadata": {
        "id": "nPIJKEqctOgz"
      }
    },
    {
      "cell_type": "markdown",
      "source": [
        "Task 4:write a program that checks whether a number is an Armstrong\n",
        "number.\n",
        "\n",
        "prompt: write a program that checks whether a number is an Armstrong\n",
        "number. give input dynamically."
      ],
      "metadata": {
        "id": "qnKJeNfutky6"
      }
    },
    {
      "cell_type": "code",
      "source": [
        "def is_armstrong_number(number):\n",
        "    \"\"\"Checks if a number is an Armstrong number.\"\"\"\n",
        "    # Convert number to string to get the number of digits\n",
        "    num_str = str(number)\n",
        "    num_digits = len(num_str)\n",
        "\n",
        "    # Calculate the sum of digits raised to the power of the number of digits\n",
        "    armstrong_sum = 0\n",
        "    for digit in num_str:\n",
        "        armstrong_sum += int(digit) ** num_digits\n",
        "\n",
        "    # Check if the sum is equal to the original number\n",
        "    return armstrong_sum == number\n",
        "\n",
        "# Get dynamic input from the user\n",
        "try:\n",
        "    num_to_check = int(input(\"Enter a number to check if it's an Armstrong number: \"))\n",
        "    if is_armstrong_number(num_to_check):\n",
        "        print(f\"{num_to_check} is an Armstrong number.\")\n",
        "    else:\n",
        "        print(f\"{num_to_check} is not an Armstrong number.\")\n",
        "except ValueError:\n",
        "    print(\"Invalid input. Please enter an integer.\")"
      ],
      "metadata": {
        "colab": {
          "base_uri": "https://localhost:8080/"
        },
        "id": "1pz4g2Jguehv",
        "outputId": "eec9c267-3654-4421-a0b9-ca96044b1cf1"
      },
      "execution_count": 3,
      "outputs": [
        {
          "output_type": "stream",
          "name": "stdout",
          "text": [
            "Enter a number to check if it's an Armstrong number: 8\n",
            "8 is an Armstrong number.\n"
          ]
        }
      ]
    },
    {
      "cell_type": "markdown",
      "source": [
        "Explanation:This program checks if a number is an Armstrong number. An Armstrong number is one where the sum of its digits, each raised to the power of the number of digits, equals the number itself.\n",
        "It works by turning the number into a string to count how many digits it has. Then it loops through each digit, raises it to that digit count, and adds the results together. If this sum matches the original number, it returns True; otherwise, False.\n",
        "In the example, it asks the user for a number. If the input is a valid integer, it runs the check and prints whether the number is Armstrong or not. If the input isn’t a valid number, it shows an error message.\n"
      ],
      "metadata": {
        "id": "Ucqr7dVkvBIq"
      }
    },
    {
      "cell_type": "markdown",
      "source": [
        "Task 5:generate code for sorting a list of dictionaries by a\n",
        "specific key (e.g., age).\n",
        "\n",
        "prompt:generate code for sorting a list of dictionaries by a\n",
        "specific key (e.g., age)."
      ],
      "metadata": {
        "id": "xXaLM_Pqw-io"
      }
    },
    {
      "cell_type": "code",
      "metadata": {
        "colab": {
          "base_uri": "https://localhost:8080/"
        },
        "id": "db752fc9",
        "outputId": "55ba33be-d5ef-449d-cec1-fb445d980fa0"
      },
      "source": [
        "def sort_list_of_dicts(list_of_dicts, key_to_sort_by):\n",
        "  \"\"\"Sorts a list of dictionaries by a specified key.\"\"\"\n",
        "  return sorted(list_of_dicts, key=lambda x: x[key_to_sort_by])\n",
        "\n",
        "# Example usage:\n",
        "data = [\n",
        "    {\"name\": \"Alice\", \"age\": 30, \"city\": \"New York\"},\n",
        "    {\"name\": \"Bob\", \"age\": 25, \"city\": \"Los Angeles\"},\n",
        "    {\"name\": \"Charlie\", \"age\": 35, \"city\": \"Chicago\"},\n",
        "]\n",
        "\n",
        "sorted_data = sort_list_of_dicts(data, \"age\")\n",
        "print(\"Sorted by age:\")\n",
        "print(sorted_data)\n",
        "\n",
        "sorted_data_name = sort_list_of_dicts(data, \"name\")\n",
        "print(\"\\nSorted by name:\")\n",
        "print(sorted_data_name)"
      ],
      "execution_count": 4,
      "outputs": [
        {
          "output_type": "stream",
          "name": "stdout",
          "text": [
            "Sorted by age:\n",
            "[{'name': 'Bob', 'age': 25, 'city': 'Los Angeles'}, {'name': 'Alice', 'age': 30, 'city': 'New York'}, {'name': 'Charlie', 'age': 35, 'city': 'Chicago'}]\n",
            "\n",
            "Sorted by name:\n",
            "[{'name': 'Alice', 'age': 30, 'city': 'New York'}, {'name': 'Bob', 'age': 25, 'city': 'Los Angeles'}, {'name': 'Charlie', 'age': 35, 'city': 'Chicago'}]\n"
          ]
        }
      ]
    },
    {
      "cell_type": "markdown",
      "source": [
        "Explanation: This program sorts a list of dictionaries based on a chosen key. You give it the list and the key name (like age or name), and it uses Python’s sorted() function with a lambda to pick the value from each dictionary for sorting.\n",
        "In the example, there’s a list of people with their name, age, and city. First, the list is sorted by age, then it’s sorted again by name, and both results are printed.\n"
      ],
      "metadata": {
        "id": "XoJJR4H3yEr3"
      }
    }
  ]
}